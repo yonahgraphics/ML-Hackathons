{
 "cells": [
  {
   "cell_type": "markdown",
   "metadata": {
    "colab_type": "text",
    "id": "9owHpJecwq7g"
   },
   "source": [
    "# Fighting Fire with Data - Starter Notebook\n",
    "\n",
    "This notebook should help you get started with the 'Fighting Fire with Data' hackathon on Zindi. In it we cover:\n",
    "- Loading the data\n",
    "- Simple EDA and an example of feature enginnering\n",
    "- Suggestions for validation split\n",
    "- Creating a simple model\n",
    "- Making a submission\n",
    "- Some tips for improving your score\n"
   ]
  },
  {
   "cell_type": "markdown",
   "metadata": {
    "colab_type": "text",
    "id": "xKcJuq7bxof_"
   },
   "source": [
    "# Setup\n",
    "\n",
    "Make sure the files are available in the current directory. On Colab, upload them using the files tab on the left."
   ]
  },
  {
   "cell_type": "code",
   "execution_count": 1,
   "metadata": {
    "colab": {
     "base_uri": "https://localhost:8080/",
     "height": 34
    },
    "colab_type": "code",
    "id": "lwa4zIHBGh41",
    "outputId": "8e15a9ee-e727-4691-837d-703db95d6e72"
   },
   "outputs": [
    {
     "name": "stdout",
     "output_type": "stream",
     "text": [
      "SampleSubmission.csv  Test.csv\tTrain.csv\n"
     ]
    }
   ],
   "source": [
    "!ls *.csv # List files to check train, ss and test are present"
   ]
  },
  {
   "cell_type": "code",
   "execution_count": 32,
   "metadata": {
    "colab": {},
    "colab_type": "code",
    "id": "2lLzfdilxfsY"
   },
   "outputs": [],
   "source": [
    "import pandas as pd\n",
    "from sklearn.linear_model import RidgeCV\n",
    "from sklearn.ensemble import RandomForestRegressor\n",
    "from sklearn.metrics import mean_squared_error, r2_score\n",
    "from matplotlib import pyplot as plt\n",
    "import seaborn as sns\n",
    "from sklearn.linear_model import LinearRegression\n",
    "from sklearn.linear_model import Ridge\n",
    "from sklearn.linear_model import Lasso\n",
    "from sklearn.linear_model import ElasticNet\n",
    "from sklearn.ensemble import BaggingRegressor\n",
    "from sklearn.ensemble import ExtraTreesRegressor\n",
    "from sklearn.tree import DecisionTreeRegressor\n",
    "from sklearn.neighbors import KNeighborsRegressor\n",
    "from sklearn.svm import SVR\n"
   ]
  },
  {
   "cell_type": "code",
   "execution_count": 3,
   "metadata": {
    "colab": {
     "base_uri": "https://localhost:8080/",
     "height": 309
    },
    "colab_type": "code",
    "id": "uaQM7lJHxRoe",
    "outputId": "c6ba3161-7687-4e04-9d5b-3107464bb9a9"
   },
   "outputs": [
    {
     "data": {
      "text/html": [
       "<div>\n",
       "<style scoped>\n",
       "    .dataframe tbody tr th:only-of-type {\n",
       "        vertical-align: middle;\n",
       "    }\n",
       "\n",
       "    .dataframe tbody tr th {\n",
       "        vertical-align: top;\n",
       "    }\n",
       "\n",
       "    .dataframe thead th {\n",
       "        text-align: right;\n",
       "    }\n",
       "</style>\n",
       "<table border=\"1\" class=\"dataframe\">\n",
       "  <thead>\n",
       "    <tr style=\"text-align: right;\">\n",
       "      <th></th>\n",
       "      <th>ID</th>\n",
       "      <th>lat</th>\n",
       "      <th>lon</th>\n",
       "      <th>burn_area</th>\n",
       "      <th>climate_aet</th>\n",
       "      <th>climate_def</th>\n",
       "      <th>climate_pdsi</th>\n",
       "      <th>climate_pet</th>\n",
       "      <th>climate_pr</th>\n",
       "      <th>climate_ro</th>\n",
       "      <th>...</th>\n",
       "      <th>landcover_0</th>\n",
       "      <th>landcover_1</th>\n",
       "      <th>landcover_2</th>\n",
       "      <th>landcover_3</th>\n",
       "      <th>landcover_4</th>\n",
       "      <th>landcover_5</th>\n",
       "      <th>landcover_6</th>\n",
       "      <th>landcover_7</th>\n",
       "      <th>landcover_8</th>\n",
       "      <th>precipitation</th>\n",
       "    </tr>\n",
       "  </thead>\n",
       "  <tbody>\n",
       "    <tr>\n",
       "      <th>0</th>\n",
       "      <td>0_2001-01-01</td>\n",
       "      <td>-15.858835</td>\n",
       "      <td>29.237029</td>\n",
       "      <td>0.0</td>\n",
       "      <td>1195</td>\n",
       "      <td>0</td>\n",
       "      <td>263</td>\n",
       "      <td>1195</td>\n",
       "      <td>206</td>\n",
       "      <td>10</td>\n",
       "      <td>...</td>\n",
       "      <td>0.0</td>\n",
       "      <td>0.0</td>\n",
       "      <td>0.018654</td>\n",
       "      <td>0.0</td>\n",
       "      <td>0.714446</td>\n",
       "      <td>0.012174</td>\n",
       "      <td>0.244890</td>\n",
       "      <td>0.009836</td>\n",
       "      <td>0.0</td>\n",
       "      <td>0.256932</td>\n",
       "    </tr>\n",
       "    <tr>\n",
       "      <th>1</th>\n",
       "      <td>1_2001-01-01</td>\n",
       "      <td>-15.858835</td>\n",
       "      <td>29.487029</td>\n",
       "      <td>0.0</td>\n",
       "      <td>1196</td>\n",
       "      <td>0</td>\n",
       "      <td>232</td>\n",
       "      <td>1196</td>\n",
       "      <td>201</td>\n",
       "      <td>10</td>\n",
       "      <td>...</td>\n",
       "      <td>0.0</td>\n",
       "      <td>0.0</td>\n",
       "      <td>0.000000</td>\n",
       "      <td>0.0</td>\n",
       "      <td>0.654783</td>\n",
       "      <td>0.000095</td>\n",
       "      <td>0.345121</td>\n",
       "      <td>0.000000</td>\n",
       "      <td>0.0</td>\n",
       "      <td>0.273093</td>\n",
       "    </tr>\n",
       "    <tr>\n",
       "      <th>2</th>\n",
       "      <td>2_2001-01-01</td>\n",
       "      <td>-15.858835</td>\n",
       "      <td>29.737029</td>\n",
       "      <td>0.0</td>\n",
       "      <td>1190</td>\n",
       "      <td>0</td>\n",
       "      <td>314</td>\n",
       "      <td>1190</td>\n",
       "      <td>192</td>\n",
       "      <td>10</td>\n",
       "      <td>...</td>\n",
       "      <td>0.0</td>\n",
       "      <td>0.0</td>\n",
       "      <td>0.000000</td>\n",
       "      <td>0.0</td>\n",
       "      <td>0.516421</td>\n",
       "      <td>0.000000</td>\n",
       "      <td>0.483579</td>\n",
       "      <td>0.000000</td>\n",
       "      <td>0.0</td>\n",
       "      <td>0.285109</td>\n",
       "    </tr>\n",
       "    <tr>\n",
       "      <th>3</th>\n",
       "      <td>3_2001-01-01</td>\n",
       "      <td>-15.858835</td>\n",
       "      <td>29.987029</td>\n",
       "      <td>0.0</td>\n",
       "      <td>1144</td>\n",
       "      <td>0</td>\n",
       "      <td>321</td>\n",
       "      <td>1144</td>\n",
       "      <td>186</td>\n",
       "      <td>66</td>\n",
       "      <td>...</td>\n",
       "      <td>0.0</td>\n",
       "      <td>0.0</td>\n",
       "      <td>0.000000</td>\n",
       "      <td>0.0</td>\n",
       "      <td>0.299000</td>\n",
       "      <td>0.163902</td>\n",
       "      <td>0.537098</td>\n",
       "      <td>0.000000</td>\n",
       "      <td>0.0</td>\n",
       "      <td>0.298418</td>\n",
       "    </tr>\n",
       "    <tr>\n",
       "      <th>4</th>\n",
       "      <td>4_2001-01-01</td>\n",
       "      <td>-15.858835</td>\n",
       "      <td>30.237029</td>\n",
       "      <td>0.0</td>\n",
       "      <td>1187</td>\n",
       "      <td>0</td>\n",
       "      <td>413</td>\n",
       "      <td>1187</td>\n",
       "      <td>186</td>\n",
       "      <td>9</td>\n",
       "      <td>...</td>\n",
       "      <td>0.0</td>\n",
       "      <td>0.0</td>\n",
       "      <td>0.000000</td>\n",
       "      <td>0.0</td>\n",
       "      <td>0.277392</td>\n",
       "      <td>0.067742</td>\n",
       "      <td>0.654866</td>\n",
       "      <td>0.000000</td>\n",
       "      <td>0.0</td>\n",
       "      <td>0.315621</td>\n",
       "    </tr>\n",
       "  </tbody>\n",
       "</table>\n",
       "<p>5 rows × 29 columns</p>\n",
       "</div>"
      ],
      "text/plain": [
       "             ID        lat        lon  burn_area  climate_aet  climate_def  \\\n",
       "0  0_2001-01-01 -15.858835  29.237029        0.0         1195            0   \n",
       "1  1_2001-01-01 -15.858835  29.487029        0.0         1196            0   \n",
       "2  2_2001-01-01 -15.858835  29.737029        0.0         1190            0   \n",
       "3  3_2001-01-01 -15.858835  29.987029        0.0         1144            0   \n",
       "4  4_2001-01-01 -15.858835  30.237029        0.0         1187            0   \n",
       "\n",
       "   climate_pdsi  climate_pet  climate_pr  climate_ro  ...  landcover_0  \\\n",
       "0           263         1195         206          10  ...          0.0   \n",
       "1           232         1196         201          10  ...          0.0   \n",
       "2           314         1190         192          10  ...          0.0   \n",
       "3           321         1144         186          66  ...          0.0   \n",
       "4           413         1187         186           9  ...          0.0   \n",
       "\n",
       "   landcover_1  landcover_2  landcover_3  landcover_4  landcover_5  \\\n",
       "0          0.0     0.018654          0.0     0.714446     0.012174   \n",
       "1          0.0     0.000000          0.0     0.654783     0.000095   \n",
       "2          0.0     0.000000          0.0     0.516421     0.000000   \n",
       "3          0.0     0.000000          0.0     0.299000     0.163902   \n",
       "4          0.0     0.000000          0.0     0.277392     0.067742   \n",
       "\n",
       "   landcover_6  landcover_7  landcover_8  precipitation  \n",
       "0     0.244890     0.009836          0.0       0.256932  \n",
       "1     0.345121     0.000000          0.0       0.273093  \n",
       "2     0.483579     0.000000          0.0       0.285109  \n",
       "3     0.537098     0.000000          0.0       0.298418  \n",
       "4     0.654866     0.000000          0.0       0.315621  \n",
       "\n",
       "[5 rows x 29 columns]"
      ]
     },
     "execution_count": 3,
     "metadata": {},
     "output_type": "execute_result"
    }
   ],
   "source": [
    "# The training data.\n",
    "train = pd.read_csv('Train.csv')\n",
    "train.head()"
   ]
  },
  {
   "cell_type": "code",
   "execution_count": 4,
   "metadata": {
    "colab": {
     "base_uri": "https://localhost:8080/",
     "height": 117
    },
    "colab_type": "code",
    "id": "RHksNuWBxeDn",
    "outputId": "b47d68c1-c956-42e0-9537-9a6441827d0d"
   },
   "outputs": [
    {
     "data": {
      "text/html": [
       "<div>\n",
       "<style scoped>\n",
       "    .dataframe tbody tr th:only-of-type {\n",
       "        vertical-align: middle;\n",
       "    }\n",
       "\n",
       "    .dataframe tbody tr th {\n",
       "        vertical-align: top;\n",
       "    }\n",
       "\n",
       "    .dataframe thead th {\n",
       "        text-align: right;\n",
       "    }\n",
       "</style>\n",
       "<table border=\"1\" class=\"dataframe\">\n",
       "  <thead>\n",
       "    <tr style=\"text-align: right;\">\n",
       "      <th></th>\n",
       "      <th>ID</th>\n",
       "      <th>lat</th>\n",
       "      <th>lon</th>\n",
       "      <th>climate_aet</th>\n",
       "      <th>climate_def</th>\n",
       "      <th>climate_pdsi</th>\n",
       "      <th>climate_pet</th>\n",
       "      <th>climate_pr</th>\n",
       "      <th>climate_ro</th>\n",
       "      <th>climate_soil</th>\n",
       "      <th>...</th>\n",
       "      <th>landcover_0</th>\n",
       "      <th>landcover_1</th>\n",
       "      <th>landcover_2</th>\n",
       "      <th>landcover_3</th>\n",
       "      <th>landcover_4</th>\n",
       "      <th>landcover_5</th>\n",
       "      <th>landcover_6</th>\n",
       "      <th>landcover_7</th>\n",
       "      <th>landcover_8</th>\n",
       "      <th>precipitation</th>\n",
       "    </tr>\n",
       "  </thead>\n",
       "  <tbody>\n",
       "    <tr>\n",
       "      <th>0</th>\n",
       "      <td>0_2014-01-01</td>\n",
       "      <td>-15.858835</td>\n",
       "      <td>29.237029</td>\n",
       "      <td>1146</td>\n",
       "      <td>74</td>\n",
       "      <td>-451</td>\n",
       "      <td>1220</td>\n",
       "      <td>120</td>\n",
       "      <td>6</td>\n",
       "      <td>212</td>\n",
       "      <td>...</td>\n",
       "      <td>0.0</td>\n",
       "      <td>0.000615</td>\n",
       "      <td>0.015418</td>\n",
       "      <td>0.0</td>\n",
       "      <td>0.416704</td>\n",
       "      <td>0.023724</td>\n",
       "      <td>0.530016</td>\n",
       "      <td>0.013524</td>\n",
       "      <td>0.0</td>\n",
       "      <td>0.404243</td>\n",
       "    </tr>\n",
       "  </tbody>\n",
       "</table>\n",
       "<p>1 rows × 28 columns</p>\n",
       "</div>"
      ],
      "text/plain": [
       "             ID        lat        lon  climate_aet  climate_def  climate_pdsi  \\\n",
       "0  0_2014-01-01 -15.858835  29.237029         1146           74          -451   \n",
       "\n",
       "   climate_pet  climate_pr  climate_ro  climate_soil  ...  landcover_0  \\\n",
       "0         1220         120           6           212  ...          0.0   \n",
       "\n",
       "   landcover_1  landcover_2  landcover_3  landcover_4  landcover_5  \\\n",
       "0     0.000615     0.015418          0.0     0.416704     0.023724   \n",
       "\n",
       "   landcover_6  landcover_7  landcover_8  precipitation  \n",
       "0     0.530016     0.013524          0.0       0.404243  \n",
       "\n",
       "[1 rows x 28 columns]"
      ]
     },
     "execution_count": 4,
     "metadata": {},
     "output_type": "execute_result"
    }
   ],
   "source": [
    "# The test set - notice there is no 'burn_area' column.\n",
    "test = pd.read_csv('Test.csv')\n",
    "test.head(1)"
   ]
  },
  {
   "cell_type": "markdown",
   "metadata": {
    "colab_type": "text",
    "id": "Tnl3iVg5xqfA"
   },
   "source": [
    "# EDA + Feature Engineering"
   ]
  },
  {
   "cell_type": "code",
   "execution_count": 5,
   "metadata": {
    "colab": {
     "base_uri": "https://localhost:8080/",
     "height": 453
    },
    "colab_type": "code",
    "id": "DG4siNyqxrsi",
    "outputId": "09144d2c-09c9-4a17-ff4d-34ac32dae4b4"
   },
   "outputs": [
    {
     "data": {
      "text/plain": [
       "<matplotlib.axes._subplots.AxesSubplot at 0x21010d173d0>"
      ]
     },
     "execution_count": 5,
     "metadata": {},
     "output_type": "execute_result"
    },
    {
     "data": {
      "image/png": "[encoded data removed]",
      "text/plain": [
       "<Figure size 1296x432 with 1 Axes>"
      ]
     },
     "metadata": {
      "needs_background": "light"
     },
     "output_type": "display_data"
    }
   ],
   "source": [
    "# Look at correlation with target\n",
    "train.corr()['burn_area'].sort_values().plot(kind='bar', figsize=(18, 6))"
   ]
  },
  {
   "cell_type": "code",
   "execution_count": 7,
   "metadata": {
    "colab": {
     "base_uri": "https://localhost:8080/",
     "height": 282
    },
    "colab_type": "code",
    "id": "DLVC6pU91PPE",
    "outputId": "98805359-1af7-407a-dfb2-c9bf6facdbb6"
   },
   "outputs": [
    {
     "data": {
      "text/plain": [
       "<matplotlib.collections.PathCollection at 0x21011f6e400>"
      ]
     },
     "execution_count": 7,
     "metadata": {},
     "output_type": "execute_result"
    },
    {
     "data": {
      "image/png": "[encoded data removed]",
      "text/plain": [
       "<Figure size 432x288 with 1 Axes>"
      ]
     },
     "metadata": {
      "needs_background": "light"
     },
     "output_type": "display_data"
    }
   ],
   "source": [
    "# Look at some scatter plots (only plotting for a subset of data to keep things fast)\n",
    "sample = train.sample(10000)\n",
    "plt.scatter(sample['climate_vap'], sample['burn_area'], alpha=0.3)"
   ]
  },
  {
   "cell_type": "code",
   "execution_count": 8,
   "metadata": {
    "colab": {
     "base_uri": "https://localhost:8080/",
     "height": 282
    },
    "colab_type": "code",
    "id": "Fp-Wq1zrCets",
    "outputId": "0d9bb794-f388-41be-c0f9-c188045bb7cb"
   },
   "outputs": [
    {
     "data": {
      "text/plain": [
       "<matplotlib.collections.PathCollection at 0x21011f9e460>"
      ]
     },
     "execution_count": 8,
     "metadata": {},
     "output_type": "execute_result"
    },
    {
     "data": {
      "image/png": "[encoded data removed]",
      "text/plain": [
       "<Figure size 432x288 with 1 Axes>"
      ]
     },
     "metadata": {
      "needs_background": "light"
     },
     "output_type": "display_data"
    }
   ],
   "source": [
    "# Most fires occur when there's very little rain.\n",
    "plt.scatter(sample['climate_pr'], sample['burn_area'], alpha=0.3)"
   ]
  },
  {
   "cell_type": "markdown",
   "metadata": {
    "colab_type": "text",
    "id": "xXIk62X9iONj"
   },
   "source": [
    "##  Adding date features"
   ]
  },
  {
   "cell_type": "code",
   "execution_count": 9,
   "metadata": {
    "colab": {},
    "colab_type": "code",
    "id": "pn-SKQxiHAon"
   },
   "outputs": [],
   "source": [
    "# Split the ID (eg 127_2017-01-03) to get the date string, which we convert to datetime to make life easier\n",
    "train['date'] = pd.to_datetime(train['ID'].apply(lambda x: x.split('_')[1])) \n",
    "test['date'] = pd.to_datetime(test['ID'].apply(lambda x: x.split('_')[1])) "
   ]
  },
  {
   "cell_type": "code",
   "execution_count": 10,
   "metadata": {
    "colab": {
     "base_uri": "https://localhost:8080/",
     "height": 299
    },
    "colab_type": "code",
    "id": "bag8HJpxCucw",
    "outputId": "8ac4d264-07a5-4d27-91c0-87f53856face"
   },
   "outputs": [
    {
     "data": {
      "text/plain": [
       "<matplotlib.axes._subplots.AxesSubplot at 0x21012325760>"
      ]
     },
     "execution_count": 10,
     "metadata": {},
     "output_type": "execute_result"
    },
    {
     "data": {
      "image/png": "[encoded data removed]",
      "text/plain": [
       "<Figure size 432x288 with 1 Axes>"
      ]
     },
     "metadata": {
      "needs_background": "light"
     },
     "output_type": "display_data"
    }
   ],
   "source": [
    "# Date variables\n",
    "train['month'] = train.date.dt.month\n",
    "train['year'] = train.date.dt.year\n",
    "\n",
    "# Plotting mean burn_area for each month - very strong mid-year peak (dry season)\n",
    "train.groupby('month').mean().reset_index().plot(y='burn_area', x='month', kind='bar')"
   ]
  },
  {
   "cell_type": "code",
   "execution_count": 11,
   "metadata": {
    "colab": {
     "base_uri": "https://localhost:8080/",
     "height": 300
    },
    "colab_type": "code",
    "id": "o-Z-G6eMCznI",
    "outputId": "1e9d9d22-e7e8-428a-87a9-aa692dbcb9af"
   },
   "outputs": [
    {
     "data": {
      "text/plain": [
       "<matplotlib.axes._subplots.AxesSubplot at 0x2101283b880>"
      ]
     },
     "execution_count": 11,
     "metadata": {},
     "output_type": "execute_result"
    },
    {
     "data": {
      "image/png": "[encoded data removed]",
      "text/plain": [
       "<Figure size 432x288 with 1 Axes>"
      ]
     },
     "metadata": {
      "needs_background": "light"
     },
     "output_type": "display_data"
    }
   ],
   "source": [
    "# Plot trend year-on-year\n",
    "train.groupby('year').mean().reset_index().plot(y='burn_area', x='year', ylim=(0, 0.03))"
   ]
  },
  {
   "cell_type": "code",
   "execution_count": 12,
   "metadata": {
    "colab": {
     "base_uri": "https://localhost:8080/",
     "height": 351
    },
    "colab_type": "code",
    "id": "BCU3WP5fEAHq",
    "outputId": "aea85508-6d2f-4661-cb62-2ef6aaafa5bd"
   },
   "outputs": [
    {
     "data": {
      "text/plain": [
       "<matplotlib.axes._subplots.AxesSubplot at 0x2101235cbe0>"
      ]
     },
     "execution_count": 12,
     "metadata": {},
     "output_type": "execute_result"
    },
    {
     "data": {
      "image/png": "[encoded data removed]",
      "text/plain": [
       "<Figure size 1296x360 with 1 Axes>"
      ]
     },
     "metadata": {
      "needs_background": "light"
     },
     "output_type": "display_data"
    }
   ],
   "source": [
    "# Let's plot precipitation and burn area on the same plot - note the strong periodic component to both.\n",
    "ax = train.groupby('date').mean().reset_index().plot(y='burn_area', x='date', figsize=(18, 5))\n",
    "train.groupby('date').mean().reset_index().plot(y='precipitation', x='date', ax=ax)"
   ]
  },
  {
   "cell_type": "markdown",
   "metadata": {
    "colab_type": "text",
    "id": "mgzvz9iji1hb"
   },
   "source": [
    "## Adding more features - some ideas\n",
    "\n",
    "\n",
    "\n",
    "\n",
    "*   Read the list of climate variables and what they mean. See if you can combine them in interesting ways - perhaps a 'hot_and_dry' metric...\n",
    "*   Fire depends on some processes that take a long time - for example, there may be more fuel if the previous growing season was a good one. Consider some lagged variables to give the model some inputs for what came before the current month.\n",
    "*   Make some categorical features - 'dominant_land_type' or 'is_peak_rainfall'. \n",
    "*   ...\n",
    "\n"
   ]
  },
  {
   "cell_type": "markdown",
   "metadata": {
    "colab_type": "text",
    "id": "RDCOsUvCz3dA"
   },
   "source": [
    "# Data Split for Validation\n",
    "\n",
    "We don't want to just split randomly - this would give us artificially high scores. Instead, let's use the last 3 years of the dataset for validation to more closely match the test configuration."
   ]
  },
  {
   "cell_type": "code",
   "execution_count": 42,
   "metadata": {
    "colab": {
     "base_uri": "https://localhost:8080/",
     "height": 34
    },
    "colab_type": "code",
    "id": "SCk5CZKI0Kt4",
    "outputId": "3a7d74f7-33b1-4656-c0a1-99de141791f8"
   },
   "outputs": [
    {
     "name": "stdout",
     "output_type": "stream",
     "text": [
      "(57564, 32) (5863, 32)\n"
     ]
    }
   ],
   "source": [
    "train_all = train.copy().dropna()\n",
    "train = train_all.loc[train_all.date < '2011-01-01']\n",
    "valid = train_all.loc[train_all.date > '2011-01-01']\n",
    "print(train.shape, valid.shape)"
   ]
  },
  {
   "cell_type": "markdown",
   "metadata": {
    "colab_type": "text",
    "id": "sIRFzOxTx3sE"
   },
   "source": [
    "# Simple Model"
   ]
  },
  {
   "cell_type": "code",
   "execution_count": 43,
   "metadata": {
    "colab": {},
    "colab_type": "code",
    "id": "hMjgH87RzOqX"
   },
   "outputs": [],
   "source": [
    "# Define input and output columns - you can play with adding or removing inputs to the model\n",
    "in_cols = ['climate_aet', 'climate_def',\n",
    "       'climate_pdsi', 'climate_pet', 'climate_pr', 'climate_ro',\n",
    "       'climate_soil', 'climate_srad', 'climate_swe', 'climate_tmmn',\n",
    "       'climate_tmmx', 'climate_vap', 'climate_vpd', 'climate_vs', 'elevation',\n",
    "       'landcover_0', 'landcover_1', 'landcover_2', 'landcover_3',\n",
    "       'landcover_4', 'landcover_5', 'landcover_6', 'landcover_7',\n",
    "       'landcover_8', 'precipitation']\n",
    "target_col = 'burn_area'"
   ]
  },
  {
   "cell_type": "code",
   "execution_count": 44,
   "metadata": {
    "colab": {
     "base_uri": "https://localhost:8080/",
     "height": 34
    },
    "colab_type": "code",
    "id": "l-8j9zDpzUpc",
    "outputId": "9056a953-7826-469e-b00d-e76490275463"
   },
   "outputs": [
    {
     "data": {
      "text/plain": [
       "0.03372523422973088"
      ]
     },
     "execution_count": 44,
     "metadata": {},
     "output_type": "execute_result"
    }
   ],
   "source": [
    "# Get our X and y training and validation sets ready\n",
    "X_train, y_train = train[in_cols], train[target_col]\n",
    "X_valid, y_valid = valid[in_cols], valid[target_col]\n",
    "\n",
    "# Create and fit the model\n",
    "model = RidgeCV()\n",
    "model.fit(X_train, y_train)\n",
    "\n",
    "# Make predictions\n",
    "preds = model.predict(X_valid)\n",
    "\n",
    "# Score\n",
    "mean_squared_error(y_valid, preds)**0.5 # RMSE - should match Zindi score. Lower is better"
   ]
  },
  {
   "cell_type": "code",
   "execution_count": null,
   "metadata": {},
   "outputs": [],
   "source": [
    "0.02716228120321017"
   ]
  },
  {
   "cell_type": "code",
   "execution_count": 34,
   "metadata": {},
   "outputs": [
    {
     "data": {
      "text/plain": [
       "RidgeCV(alphas=array([ 0.1,  1. , 10. ]))"
      ]
     },
     "execution_count": 34,
     "metadata": {},
     "output_type": "execute_result"
    }
   ],
   "source": [
    "#Training the model on the entire training set\n",
    "X_alltrain, y_alltrain = train_all[in_cols], train_all[target_col]\n",
    "model.fit(X_alltrain, y_alltrain)"
   ]
  },
  {
   "cell_type": "code",
   "execution_count": 23,
   "metadata": {
    "colab": {},
    "colab_type": "code",
    "id": "isI_-sfnzXED"
   },
   "outputs": [],
   "source": [
    "# Exercise. Try a RandomForestRegressor model. Use n_estimators=10 if the default takes too long to run, and experiment with the max_depth parameter."
   ]
  },
  {
   "cell_type": "markdown",
   "metadata": {
    "colab_type": "text",
    "id": "Eq7DM0URkkai"
   },
   "source": [
    "# Making A Submission\n",
    "\n",
    "Once you've got some features and a model you're happy with, it's time to submit!"
   ]
  },
  {
   "cell_type": "code",
   "execution_count": 22,
   "metadata": {
    "colab": {
     "base_uri": "https://localhost:8080/",
     "height": 204
    },
    "colab_type": "code",
    "id": "bb8DdgWskqQs",
    "outputId": "ea58dea4-7ba7-4ced-d1e5-5d7f2aef02ce"
   },
   "outputs": [
    {
     "data": {
      "text/html": [
       "<div>\n",
       "<style scoped>\n",
       "    .dataframe tbody tr th:only-of-type {\n",
       "        vertical-align: middle;\n",
       "    }\n",
       "\n",
       "    .dataframe tbody tr th {\n",
       "        vertical-align: top;\n",
       "    }\n",
       "\n",
       "    .dataframe thead th {\n",
       "        text-align: right;\n",
       "    }\n",
       "</style>\n",
       "<table border=\"1\" class=\"dataframe\">\n",
       "  <thead>\n",
       "    <tr style=\"text-align: right;\">\n",
       "      <th></th>\n",
       "      <th>ID</th>\n",
       "      <th>burn_area</th>\n",
       "    </tr>\n",
       "  </thead>\n",
       "  <tbody>\n",
       "    <tr>\n",
       "      <th>0</th>\n",
       "      <td>0_2014-01-01</td>\n",
       "      <td>0</td>\n",
       "    </tr>\n",
       "    <tr>\n",
       "      <th>1</th>\n",
       "      <td>1_2014-01-01</td>\n",
       "      <td>0</td>\n",
       "    </tr>\n",
       "    <tr>\n",
       "      <th>2</th>\n",
       "      <td>2_2014-01-01</td>\n",
       "      <td>0</td>\n",
       "    </tr>\n",
       "    <tr>\n",
       "      <th>3</th>\n",
       "      <td>3_2014-01-01</td>\n",
       "      <td>0</td>\n",
       "    </tr>\n",
       "    <tr>\n",
       "      <th>4</th>\n",
       "      <td>4_2014-01-01</td>\n",
       "      <td>0</td>\n",
       "    </tr>\n",
       "  </tbody>\n",
       "</table>\n",
       "</div>"
      ],
      "text/plain": [
       "             ID  burn_area\n",
       "0  0_2014-01-01          0\n",
       "1  1_2014-01-01          0\n",
       "2  2_2014-01-01          0\n",
       "3  3_2014-01-01          0\n",
       "4  4_2014-01-01          0"
      ]
     },
     "execution_count": 22,
     "metadata": {},
     "output_type": "execute_result"
    }
   ],
   "source": [
    "# Look at the sample submission file\n",
    "ss = pd.read_csv('SampleSubmission.csv')\n",
    "ss.head()"
   ]
  },
  {
   "cell_type": "code",
   "execution_count": 23,
   "metadata": {
    "colab": {
     "base_uri": "https://localhost:8080/",
     "height": 309
    },
    "colab_type": "code",
    "id": "MlKjnZ8WkvaX",
    "outputId": "9b363b73-ea6e-45bb-e35d-0d43dc75fc4a"
   },
   "outputs": [
    {
     "data": {
      "text/html": [
       "<div>\n",
       "<style scoped>\n",
       "    .dataframe tbody tr th:only-of-type {\n",
       "        vertical-align: middle;\n",
       "    }\n",
       "\n",
       "    .dataframe tbody tr th {\n",
       "        vertical-align: top;\n",
       "    }\n",
       "\n",
       "    .dataframe thead th {\n",
       "        text-align: right;\n",
       "    }\n",
       "</style>\n",
       "<table border=\"1\" class=\"dataframe\">\n",
       "  <thead>\n",
       "    <tr style=\"text-align: right;\">\n",
       "      <th></th>\n",
       "      <th>ID</th>\n",
       "      <th>lat</th>\n",
       "      <th>lon</th>\n",
       "      <th>climate_aet</th>\n",
       "      <th>climate_def</th>\n",
       "      <th>climate_pdsi</th>\n",
       "      <th>climate_pet</th>\n",
       "      <th>climate_pr</th>\n",
       "      <th>climate_ro</th>\n",
       "      <th>climate_soil</th>\n",
       "      <th>...</th>\n",
       "      <th>landcover_3</th>\n",
       "      <th>landcover_4</th>\n",
       "      <th>landcover_5</th>\n",
       "      <th>landcover_6</th>\n",
       "      <th>landcover_7</th>\n",
       "      <th>landcover_8</th>\n",
       "      <th>precipitation</th>\n",
       "      <th>date</th>\n",
       "      <th>month</th>\n",
       "      <th>year</th>\n",
       "    </tr>\n",
       "  </thead>\n",
       "  <tbody>\n",
       "    <tr>\n",
       "      <th>0</th>\n",
       "      <td>0_2014-01-01</td>\n",
       "      <td>-15.858835</td>\n",
       "      <td>29.237029</td>\n",
       "      <td>1146</td>\n",
       "      <td>74</td>\n",
       "      <td>-451</td>\n",
       "      <td>1220</td>\n",
       "      <td>120</td>\n",
       "      <td>6</td>\n",
       "      <td>212</td>\n",
       "      <td>...</td>\n",
       "      <td>0.0</td>\n",
       "      <td>0.416704</td>\n",
       "      <td>0.023724</td>\n",
       "      <td>0.530016</td>\n",
       "      <td>0.013524</td>\n",
       "      <td>0.0</td>\n",
       "      <td>0.404243</td>\n",
       "      <td>2014-01-01</td>\n",
       "      <td>1</td>\n",
       "      <td>2014</td>\n",
       "    </tr>\n",
       "    <tr>\n",
       "      <th>1</th>\n",
       "      <td>1_2014-01-01</td>\n",
       "      <td>-15.858835</td>\n",
       "      <td>29.487029</td>\n",
       "      <td>1118</td>\n",
       "      <td>98</td>\n",
       "      <td>-405</td>\n",
       "      <td>1216</td>\n",
       "      <td>117</td>\n",
       "      <td>6</td>\n",
       "      <td>330</td>\n",
       "      <td>...</td>\n",
       "      <td>0.0</td>\n",
       "      <td>0.406436</td>\n",
       "      <td>0.000446</td>\n",
       "      <td>0.593118</td>\n",
       "      <td>0.000000</td>\n",
       "      <td>0.0</td>\n",
       "      <td>0.421489</td>\n",
       "      <td>2014-01-01</td>\n",
       "      <td>1</td>\n",
       "      <td>2014</td>\n",
       "    </tr>\n",
       "    <tr>\n",
       "      <th>2</th>\n",
       "      <td>2_2014-01-01</td>\n",
       "      <td>-15.858835</td>\n",
       "      <td>29.737029</td>\n",
       "      <td>1067</td>\n",
       "      <td>137</td>\n",
       "      <td>-468</td>\n",
       "      <td>1204</td>\n",
       "      <td>111</td>\n",
       "      <td>6</td>\n",
       "      <td>194</td>\n",
       "      <td>...</td>\n",
       "      <td>0.0</td>\n",
       "      <td>0.254791</td>\n",
       "      <td>0.000000</td>\n",
       "      <td>0.745209</td>\n",
       "      <td>0.000000</td>\n",
       "      <td>0.0</td>\n",
       "      <td>0.419122</td>\n",
       "      <td>2014-01-01</td>\n",
       "      <td>1</td>\n",
       "      <td>2014</td>\n",
       "    </tr>\n",
       "    <tr>\n",
       "      <th>3</th>\n",
       "      <td>3_2014-01-01</td>\n",
       "      <td>-15.858835</td>\n",
       "      <td>29.987029</td>\n",
       "      <td>969</td>\n",
       "      <td>187</td>\n",
       "      <td>-533</td>\n",
       "      <td>1156</td>\n",
       "      <td>101</td>\n",
       "      <td>5</td>\n",
       "      <td>78</td>\n",
       "      <td>...</td>\n",
       "      <td>0.0</td>\n",
       "      <td>0.219340</td>\n",
       "      <td>0.182153</td>\n",
       "      <td>0.598507</td>\n",
       "      <td>0.000000</td>\n",
       "      <td>0.0</td>\n",
       "      <td>0.404596</td>\n",
       "      <td>2014-01-01</td>\n",
       "      <td>1</td>\n",
       "      <td>2014</td>\n",
       "    </tr>\n",
       "    <tr>\n",
       "      <th>4</th>\n",
       "      <td>4_2014-01-01</td>\n",
       "      <td>-15.858835</td>\n",
       "      <td>30.237029</td>\n",
       "      <td>927</td>\n",
       "      <td>270</td>\n",
       "      <td>-505</td>\n",
       "      <td>1197</td>\n",
       "      <td>96</td>\n",
       "      <td>5</td>\n",
       "      <td>139</td>\n",
       "      <td>...</td>\n",
       "      <td>0.0</td>\n",
       "      <td>0.220239</td>\n",
       "      <td>0.097748</td>\n",
       "      <td>0.682013</td>\n",
       "      <td>0.000000</td>\n",
       "      <td>0.0</td>\n",
       "      <td>0.371100</td>\n",
       "      <td>2014-01-01</td>\n",
       "      <td>1</td>\n",
       "      <td>2014</td>\n",
       "    </tr>\n",
       "  </tbody>\n",
       "</table>\n",
       "<p>5 rows × 31 columns</p>\n",
       "</div>"
      ],
      "text/plain": [
       "             ID        lat        lon  climate_aet  climate_def  climate_pdsi  \\\n",
       "0  0_2014-01-01 -15.858835  29.237029         1146           74          -451   \n",
       "1  1_2014-01-01 -15.858835  29.487029         1118           98          -405   \n",
       "2  2_2014-01-01 -15.858835  29.737029         1067          137          -468   \n",
       "3  3_2014-01-01 -15.858835  29.987029          969          187          -533   \n",
       "4  4_2014-01-01 -15.858835  30.237029          927          270          -505   \n",
       "\n",
       "   climate_pet  climate_pr  climate_ro  climate_soil  ...  landcover_3  \\\n",
       "0         1220         120           6           212  ...          0.0   \n",
       "1         1216         117           6           330  ...          0.0   \n",
       "2         1204         111           6           194  ...          0.0   \n",
       "3         1156         101           5            78  ...          0.0   \n",
       "4         1197          96           5           139  ...          0.0   \n",
       "\n",
       "   landcover_4  landcover_5  landcover_6  landcover_7  landcover_8  \\\n",
       "0     0.416704     0.023724     0.530016     0.013524          0.0   \n",
       "1     0.406436     0.000446     0.593118     0.000000          0.0   \n",
       "2     0.254791     0.000000     0.745209     0.000000          0.0   \n",
       "3     0.219340     0.182153     0.598507     0.000000          0.0   \n",
       "4     0.220239     0.097748     0.682013     0.000000          0.0   \n",
       "\n",
       "   precipitation       date  month  year  \n",
       "0       0.404243 2014-01-01      1  2014  \n",
       "1       0.421489 2014-01-01      1  2014  \n",
       "2       0.419122 2014-01-01      1  2014  \n",
       "3       0.404596 2014-01-01      1  2014  \n",
       "4       0.371100 2014-01-01      1  2014  \n",
       "\n",
       "[5 rows x 31 columns]"
      ]
     },
     "execution_count": 23,
     "metadata": {},
     "output_type": "execute_result"
    }
   ],
   "source": [
    "# And the test data\n",
    "test.head()"
   ]
  },
  {
   "cell_type": "code",
   "execution_count": 36,
   "metadata": {},
   "outputs": [
    {
     "data": {
      "text/html": [
       "<div>\n",
       "<style scoped>\n",
       "    .dataframe tbody tr th:only-of-type {\n",
       "        vertical-align: middle;\n",
       "    }\n",
       "\n",
       "    .dataframe tbody tr th {\n",
       "        vertical-align: top;\n",
       "    }\n",
       "\n",
       "    .dataframe thead th {\n",
       "        text-align: right;\n",
       "    }\n",
       "</style>\n",
       "<table border=\"1\" class=\"dataframe\">\n",
       "  <thead>\n",
       "    <tr style=\"text-align: right;\">\n",
       "      <th></th>\n",
       "      <th>ID</th>\n",
       "      <th>burn_area</th>\n",
       "    </tr>\n",
       "  </thead>\n",
       "  <tbody>\n",
       "    <tr>\n",
       "      <th>0</th>\n",
       "      <td>0_2014-01-01</td>\n",
       "      <td>0.0</td>\n",
       "    </tr>\n",
       "    <tr>\n",
       "      <th>1</th>\n",
       "      <td>1_2014-01-01</td>\n",
       "      <td>0.0</td>\n",
       "    </tr>\n",
       "    <tr>\n",
       "      <th>2</th>\n",
       "      <td>2_2014-01-01</td>\n",
       "      <td>0.0</td>\n",
       "    </tr>\n",
       "    <tr>\n",
       "      <th>3</th>\n",
       "      <td>3_2014-01-01</td>\n",
       "      <td>0.0</td>\n",
       "    </tr>\n",
       "    <tr>\n",
       "      <th>4</th>\n",
       "      <td>4_2014-01-01</td>\n",
       "      <td>0.0</td>\n",
       "    </tr>\n",
       "  </tbody>\n",
       "</table>\n",
       "</div>"
      ],
      "text/plain": [
       "             ID  burn_area\n",
       "0  0_2014-01-01        0.0\n",
       "1  1_2014-01-01        0.0\n",
       "2  2_2014-01-01        0.0\n",
       "3  3_2014-01-01        0.0\n",
       "4  4_2014-01-01        0.0"
      ]
     },
     "execution_count": 36,
     "metadata": {},
     "output_type": "execute_result"
    }
   ],
   "source": [
    "# So we need to predict the burn area for each row in test. \n",
    "\n",
    "# Add the same features to test as we did to train:\n",
    "test['month'] = test.date.dt.month\n",
    "test['year'] = test.date.dt.year\n",
    "\n",
    "# Get predictions\n",
    "preds = model.predict(test[in_cols].fillna(0)) # fillna(0) here could be improved by examining the missing data and filling more appropriately.\n",
    "\n",
    "# Add to submission dataframe\n",
    "ss['burn_area'] = preds\n",
    "\n",
    "# Depending on your model, you may have some predictions that don't make sense. Let's constrain our predictions to the range (0, 1)\n",
    "ss['burn_area'] = ss['burn_area'].clip(0, 1)\n",
    "\n",
    "# View\n",
    "ss.head()\n"
   ]
  },
  {
   "cell_type": "code",
   "execution_count": 26,
   "metadata": {
    "colab": {
     "base_uri": "https://localhost:8080/",
     "height": 204
    },
    "colab_type": "code",
    "id": "HItSe6MCkyPB",
    "outputId": "c928e1ea-30d8-4365-f94f-cb350a6d6374"
   },
   "outputs": [],
   "source": [
    "# So we need to predict the burn area for each row in test. \n",
    "\n",
    "# Add the same features to test as we did to train:\n",
    "#test['month'] = test.date.dt.month\n",
    "#test['year'] = test.date.dt.year\n",
    "\n",
    "# Get predictions\n",
    "#preds = model.predict(test[in_cols].fillna(0)) # fillna(0) here could be improved by examining the missing data and filling more appropriately.\n",
    "\n",
    "# Add to submission dataframe\n",
    "#ss['Prediction'] = preds\n",
    "\n",
    "# Depending on your model, you may have some predictions that don't make sense. Let's constrain our predictions to the range (0, 1)\n",
    "#ss['Prediction'] = ss['Prediction'].clip(0, 1)\n",
    "\n",
    "# View\n",
    "#ss.head()"
   ]
  },
  {
   "cell_type": "code",
   "execution_count": 37,
   "metadata": {
    "colab": {},
    "colab_type": "code",
    "id": "13Ns-f5blIEs"
   },
   "outputs": [],
   "source": [
    "# Save ready for submission:\n",
    "ss.to_csv('starter_submission1.csv', index=False)"
   ]
  },
  {
   "cell_type": "markdown",
   "metadata": {
    "colab_type": "text",
    "id": "OeyjG8-4mK7Y"
   },
   "source": [
    "# Tips for improving your score\n",
    "\n",
    "- Once you've chosen a model, you should re-train it on all the data (including that which you previously held back for validation) to give it the best chance of succeeding\n",
    "- There is a timeseries component to this challenge. Think about how to use this to improve your accuracy.\n",
    "- Spend some time on feature engineering. Since no external data is allowed for this challenge, the winning solution will be the one that gets the most out of the data provided."
   ]
  },
  {
   "cell_type": "code",
   "execution_count": null,
   "metadata": {
    "colab": {},
    "colab_type": "code",
    "id": "yUuqtHNKnO3r"
   },
   "outputs": [],
   "source": []
  }
 ],
 "metadata": {
  "colab": {
   "collapsed_sections": [],
   "name": "Fighting Fire with Data - Starter Notebook.ipynb",
   "provenance": [],
   "toc_visible": true
  },
  "kernelspec": {
   "display_name": "Python 3",
   "language": "python",
   "name": "python3"
  },
  "language_info": {
   "codemirror_mode": {
    "name": "ipython",
    "version": 3
   },
   "file_extension": ".py",
   "mimetype": "text/x-python",
   "name": "python",
   "nbconvert_exporter": "python",
   "pygments_lexer": "ipython3",
   "version": "3.8.3"
  }
 },
 "nbformat": 4,
 "nbformat_minor": 1
}
